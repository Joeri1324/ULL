{
 "cells": [
  {
   "cell_type": "code",
   "execution_count": null,
   "metadata": {},
   "outputs": [],
   "source": [
    "from skipgram.read import read_sequential, destructure, read_vocab\n",
    "from skipgram.model import Embeddings\n",
    "from bayesian_skipgram.model import BayesianSkipgram\n",
    "from bayesian_skipgram.read import read_context_wise\n",
    "from embed_align.model import AlignedEmbeddings\n",
    "from predict import write_predictions\n",
    "import torch.autograd as autograd\n",
    "import torch.nn as nn\n",
    "import torch.optim as optim\n",
    "import torch\n",
    "import matplotlib.pyplot as plt\n",
    "import numpy as np"
   ]
  },
  {
   "cell_type": "markdown",
   "metadata": {},
   "source": [
    "# Negative Sampling Skip Gram"
   ]
  },
  {
   "cell_type": "markdown",
   "metadata": {},
   "source": [
    "### Training"
   ]
  },
  {
   "cell_type": "code",
   "execution_count": 10,
   "metadata": {
    "collapsed": true
   },
   "outputs": [],
   "source": [
    "EMBEDDINGS_SIZE = 100\n",
    "FILE = './data/dev.en'\n",
    "vocab = {w: i for i, w in enumerate(read_vocab(FILE, []))}\n",
    "inv_vocab = {i: w for i, w in enumerate(read_vocab(FILE, []))}\n",
    "model = Embeddings(EMBEDDINGS_SIZE, len(vocab))\n",
    "optimizer = optim.SparseAdam(model.parameters(), lr = 0.01)"
   ]
  },
  {
   "cell_type": "code",
   "execution_count": 11,
   "metadata": {
    "collapsed": true
   },
   "outputs": [],
   "source": [
    "def epoch():\n",
    "    losses = []\n",
    "    for x, y in read_sequential(FILE, 2, [], vocab, 500):\n",
    "        optimizer.zero_grad()\n",
    "        loss = model(x, y)\n",
    "        loss.backward()\n",
    "        optimizer.step()\n",
    "        losses.append(loss)\n",
    "    return torch.mean(torch.Tensor(losses))\n",
    "\n",
    "losses = [epoch() for i in range(100)]"
   ]
  },
  {
   "cell_type": "code",
   "execution_count": 12,
   "metadata": {},
   "outputs": [
    {
     "data": {
      "image/png": "[encoded data removed]",
      "text/plain": [
       "<matplotlib.figure.Figure at 0x11c6739e8>"
      ]
     },
     "metadata": {},
     "output_type": "display_data"
    }
   ],
   "source": [
    "plt.plot(losses)\n",
    "plt.title('loss function')\n",
    "plt.xlabel('Amount of epochs')\n",
    "plt.ylabel('loss function')\n",
    "plt.show()"
   ]
  },
  {
   "cell_type": "code",
   "execution_count": 13,
   "metadata": {},
   "outputs": [],
   "source": [
    "import csv\n",
    "\n",
    "def strip_last_bit(word):\n",
    "    return word[:word.index('.')]\n",
    "    \n",
    "def write_predictions(testfile, model, vocab, inv_vocab):\n",
    "    with open(testfile) as infile:\n",
    "        with open('lst/1predictions.txt', 'w') as outfile:\n",
    "            test = csv.reader(infile, delimiter='\\t')\n",
    "            for target, sentence_id, position, sentence in test:\n",
    "                candidates, scores = model.most_similar(vocab.get(strip_last_bit(target), 0), 20)\n",
    "                row = '\\t'.join(['#WHAT?', target, str(sentence_id)])\n",
    "                row = '\\t{0} {1}'.format(target, str(sentence_id))\n",
    "                target = strip_last_bit(target)\n",
    "                line = ['\\t' + target + ' ' + str(sentence_id)]\n",
    "                for i, score in zip(candidates, scores):\n",
    "                    line.append(inv_vocab[i] + ' '  + str(score))\n",
    "                    row += \"\\t{0} {1}\".format(inv_vocab[i], str(score))\n",
    "                outfile.write(row + '\\n')\n",
    "\n",
    "\n",
    "write_predictions('lst/lst_test.preprocessed', model, vocab, inv_vocab)"
   ]
  },
  {
   "cell_type": "markdown",
   "metadata": {},
   "source": [
    "### Qualitative Examples"
   ]
  },
  {
   "cell_type": "code",
   "execution_count": 18,
   "metadata": {},
   "outputs": [
    {
     "name": "stdout",
     "output_type": "stream",
     "text": [
      "complex -> when\n",
      "prostitute -> ensure\n",
      "streets -> 49\n",
      "hi -> at\n"
     ]
    }
   ],
   "source": [
    "print('complex ->', inv_vocab[model.most_similar(vocab.get('complex', 0), 2)[0][0]])\n",
    "print('prostitute ->', inv_vocab[model.most_similar(vocab.get('prostitute', 0), 2)[0][0]])\n",
    "print('streets ->', inv_vocab[model.most_similar(vocab.get('streets', 0), 2)[0][0]])\n",
    "print('hi ->', inv_vocab[model.most_similar(vocab.get('hi', 0), 2)[0][0]])"
   ]
  },
  {
   "cell_type": "markdown",
   "metadata": {},
   "source": [
    "# Bayesian Skipgram"
   ]
  },
  {
   "cell_type": "code",
   "execution_count": 20,
   "metadata": {
    "collapsed": true
   },
   "outputs": [],
   "source": [
    "FILE = './data/dev.en'\n",
    "\n",
    "vocab = {w: i for i, w in enumerate(read_vocab(FILE, []))}\n",
    "inv_vocab = {i: w for i, w in enumerate(read_vocab(FILE, []))}\n",
    "\n",
    "model = BayesianSkipgram(50, len(vocab))\n",
    "loss_function = nn.NLLLoss()\n",
    "\n",
    "optimizer = optim.Adam(model.parameters(), lr = 0.001)"
   ]
  },
  {
   "cell_type": "code",
   "execution_count": 21,
   "metadata": {},
   "outputs": [],
   "source": [
    "def epoch():\n",
    "    losses = []\n",
    "    for word, context in read_context_wise(FILE, 2, []):\n",
    "        word_index = torch.LongTensor([vocab[word]])\n",
    "        optimizer.zero_grad()\n",
    "        model.zero_grad()\n",
    "        context_indices = torch.LongTensor([vocab[i] for i in context])\n",
    "        loss = model(word_index, context_indices)\n",
    "        losses.append(loss)\n",
    "        loss.backward()\n",
    "        optimizer.step()\n",
    "    return torch.mean(torch.Tensor(losses))\n",
    "\n",
    "losses = [epoch() for _ in range(10)]"
   ]
  },
  {
   "cell_type": "code",
   "execution_count": 9,
   "metadata": {},
   "outputs": [
    {
     "data": {
      "image/png": "[encoded data removed]",
      "text/plain": [
       "<matplotlib.figure.Figure at 0x11c644048>"
      ]
     },
     "metadata": {},
     "output_type": "display_data"
    }
   ],
   "source": [
    "plt.plot(losses)\n",
    "plt.title('loss function')\n",
    "plt.xlabel('Amount of epochs')\n",
    "plt.ylabel('loss function')\n",
    "plt.show()"
   ]
  },
  {
   "cell_type": "code",
   "execution_count": 22,
   "metadata": {},
   "outputs": [
    {
     "name": "stdout",
     "output_type": "stream",
     "text": [
      "Minister -> tax\n",
      "aware -> laws\n",
      "British -> bail\n",
      "streets -> .\n"
     ]
    }
   ],
   "source": [
    "print('Minister ->', inv_vocab[model.most_similar(vocab.get('Minister', 0))[0][1]])\n",
    "print('aware ->', inv_vocab[model.most_similar(vocab.get('aware', 0))[0][1]])\n",
    "print('British ->', inv_vocab[model.most_similar(vocab.get('British', 0))[0][1]])\n",
    "print('streets ->', inv_vocab[model.most_similar(vocab.get('streets', 0))[0][1]])"
   ]
  },
  {
   "cell_type": "markdown",
   "metadata": {},
   "source": [
    "# Embed Align"
   ]
  },
  {
   "cell_type": "code",
   "execution_count": 5,
   "metadata": {},
   "outputs": [],
   "source": [
    "from embed_align.read import read\n",
    "\n",
    "FILE_L1 = './data/dev.en'\n",
    "FILE_L2 = './data/dev.fr'\n",
    "\n",
    "vocab_l1 = {w: i for i, w in enumerate(read_vocab(FILE_L1, []))}\n",
    "vocab_l2 = {w: i for i, w in enumerate(read_vocab(FILE_L2, []))}\n",
    "\n",
    "model = AlignedEmbeddings(12, len(vocab_l1), len(vocab_l2), 10)\n",
    "optimizer = optim.Adam(model.parameters(), lr = 0.001)\n",
    "\n",
    "def epoch():\n",
    "    losses = []\n",
    "    for l1, l2 in read(FILE_L1, FILE_L2):\n",
    "        optimizer.zero_grad()\n",
    "        model.zero_grad()\n",
    "        l1_tensor = torch.LongTensor([vocab_l1[w] for w in l1.split()])\n",
    "        l2_tensor = torch.LongTensor([vocab_l2[w] for w in l2.split()])\n",
    "\n",
    "        loss = model(l1_tensor, l2_tensor)\n",
    "        loss.backward()\n",
    "        losses.append(loss)\n",
    "        optimizer.step()\n",
    "    return torch.mean(torch.Tensor(losses))\n",
    "    \n",
    "losses = [epoch() for _ in range(10)]"
   ]
  },
  {
   "cell_type": "code",
   "execution_count": 6,
   "metadata": {},
   "outputs": [
    {
     "data": {
      "image/png": "[encoded data removed]",
      "text/plain": [
       "<matplotlib.figure.Figure at 0x108fdcfd0>"
      ]
     },
     "metadata": {},
     "output_type": "display_data"
    }
   ],
   "source": [
    "plt.plot(losses)\n",
    "plt.title('loss function')\n",
    "plt.xlabel('Amount of epochs')\n",
    "plt.ylabel('loss function')\n",
    "plt.show()"
   ]
  },
  {
   "cell_type": "code",
   "execution_count": null,
   "metadata": {
    "collapsed": true
   },
   "outputs": [],
   "source": []
  }
 ],
 "metadata": {
  "kernelspec": {
   "display_name": "Python 3",
   "language": "python",
   "name": "python3"
  },
  "language_info": {
   "codemirror_mode": {
    "name": "ipython",
    "version": 3
   },
   "file_extension": ".py",
   "mimetype": "text/x-python",
   "name": "python",
   "nbconvert_exporter": "python",
   "pygments_lexer": "ipython3",
   "version": "3.6.3"
  }
 },
 "nbformat": 4,
 "nbformat_minor": 2
}
